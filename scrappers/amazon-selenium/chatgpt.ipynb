{
 "cells": [
  {
   "attachments": {},
   "cell_type": "markdown",
   "metadata": {},
   "source": [
    "# Scraping chatGPT to Generate Video Prompts"
   ]
  },
  {
   "cell_type": "code",
   "execution_count": 2,
   "metadata": {},
   "outputs": [],
   "source": [
    "from selenium import webdriver\n",
    "from selenium.webdriver.common.by import By \n",
    "from selenium.webdriver import ChromeOptions\n",
    "from selenium.common.exceptions import NoSuchElementException\n",
    "from time import sleep\n",
    "import json"
   ]
  },
  {
   "attachments": {},
   "cell_type": "markdown",
   "metadata": {},
   "source": [
    "## Load list of ASINs"
   ]
  },
  {
   "cell_type": "code",
   "execution_count": 1,
   "metadata": {},
   "outputs": [
    {
     "name": "stdout",
     "output_type": "stream",
     "text": [
      "['B06Y2SS2SD', 'B07TVC2KLW', 'B07TVC2KLW']\n"
     ]
    }
   ],
   "source": [
    "with open(\"asins.txt\",'r') as asins_txt:\n",
    "    asin_list = asins_txt.read().splitlines()\n",
    "print(asin_list)"
   ]
  },
  {
   "attachments": {},
   "cell_type": "markdown",
   "metadata": {},
   "source": [
    "## For each ASIN Get Bullets"
   ]
  },
  {
   "cell_type": "code",
   "execution_count": 15,
   "metadata": {},
   "outputs": [
    {
     "name": "stdout",
     "output_type": "stream",
     "text": [
      "3\n"
     ]
    }
   ],
   "source": [
    "prod_list = []\n",
    "for asin in asin_list:\n",
    "    fpath = asin + '/' + asin + '.json'\n",
    "    with open(fpath, 'r') as fa:\n",
    "        prod = json.load(fa)\n",
    "        descr = \"; \".join(prod['bullets'])\n",
    "        prod_list.append(descr)\n",
    "print(prod_list)"
   ]
  },
  {
   "cell_type": "code",
   "execution_count": null,
   "metadata": {},
   "outputs": [],
   "source": [
    "url = \"https://chat.openai.com/chat\"\n"
   ]
  },
  {
   "cell_type": "code",
   "execution_count": null,
   "metadata": {},
   "outputs": [],
   "source": [
    "options = ChromeOptions() \n",
    "options.headless = False # Due to dynamic elements cannot run headless\n",
    "driver = webdriver.Chrome(chrome_options=options)"
   ]
  }
 ],
 "metadata": {
  "kernelspec": {
   "display_name": "scrapper",
   "language": "python",
   "name": "python3"
  },
  "language_info": {
   "codemirror_mode": {
    "name": "ipython",
    "version": 3
   },
   "file_extension": ".py",
   "mimetype": "text/x-python",
   "name": "python",
   "nbconvert_exporter": "python",
   "pygments_lexer": "ipython3",
   "version": "3.10.8"
  },
  "orig_nbformat": 4,
  "vscode": {
   "interpreter": {
    "hash": "8ceadb5fac282510284e1f97e5ef88dfb91c26c99322e3fead01a0172e1d5903"
   }
  }
 },
 "nbformat": 4,
 "nbformat_minor": 2
}
